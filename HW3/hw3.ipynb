{
  "nbformat": 4,
  "nbformat_minor": 0,
  "metadata": {
    "colab": {
      "provenance": []
    },
    "kernelspec": {
      "name": "python3",
      "display_name": "Python 3"
    },
    "language_info": {
      "name": "python"
    }
  },
  "cells": [
    {
      "cell_type": "markdown",
      "source": [
        "We will be using the MNIST dataset at this kaggle link:\n",
        "https://www.kaggle.com/datasets/animatronbot/mnist-digit-recognizer/code\n",
        "\n",
        "# **PART 1**"
      ],
      "metadata": {
        "id": "PbESSX0DKv72"
      }
    },
    {
      "cell_type": "code",
      "source": [
        "import numpy as np\n",
        "import pandas as pd\n",
        "import matplotlib.pyplot as plt\n",
        "from tqdm import tqdm"
      ],
      "metadata": {
        "id": "HVlzV3quzz4E"
      },
      "execution_count": 35,
      "outputs": []
    },
    {
      "cell_type": "markdown",
      "source": [
        "Let's see how much data we are working with"
      ],
      "metadata": {
        "id": "ox-8UD94K-bJ"
      }
    },
    {
      "cell_type": "code",
      "source": [
        "df = pd.read_csv(\"/content/train.csv\")"
      ],
      "metadata": {
        "id": "cUaQ7z-6z3-v"
      },
      "execution_count": 8,
      "outputs": []
    },
    {
      "cell_type": "code",
      "source": [
        "w = len(df)\n",
        "w"
      ],
      "metadata": {
        "colab": {
          "base_uri": "https://localhost:8080/"
        },
        "id": "21a3eL7-7F8h",
        "outputId": "6960ce48-6e8e-40fe-aaa2-2ffadf50d45f"
      },
      "execution_count": 10,
      "outputs": [
        {
          "output_type": "execute_result",
          "data": {
            "text/plain": [
              "42000"
            ]
          },
          "metadata": {},
          "execution_count": 10
        }
      ]
    },
    {
      "cell_type": "code",
      "source": [
        "df.head()"
      ],
      "metadata": {
        "colab": {
          "base_uri": "https://localhost:8080/",
          "height": 255
        },
        "id": "K3cj-T-gz8xY",
        "outputId": "8f70cbb6-eb7f-4ba1-cd8a-93d4f20f5234"
      },
      "execution_count": 11,
      "outputs": [
        {
          "output_type": "execute_result",
          "data": {
            "text/plain": [
              "   label  pixel0  pixel1  pixel2  pixel3  pixel4  pixel5  pixel6  pixel7  \\\n",
              "0      1       0       0       0       0       0       0       0       0   \n",
              "1      0       0       0       0       0       0       0       0       0   \n",
              "2      1       0       0       0       0       0       0       0       0   \n",
              "3      4       0       0       0       0       0       0       0       0   \n",
              "4      0       0       0       0       0       0       0       0       0   \n",
              "\n",
              "   pixel8  ...  pixel774  pixel775  pixel776  pixel777  pixel778  pixel779  \\\n",
              "0       0  ...         0         0         0         0         0         0   \n",
              "1       0  ...         0         0         0         0         0         0   \n",
              "2       0  ...         0         0         0         0         0         0   \n",
              "3       0  ...         0         0         0         0         0         0   \n",
              "4       0  ...         0         0         0         0         0         0   \n",
              "\n",
              "   pixel780  pixel781  pixel782  pixel783  \n",
              "0         0         0         0         0  \n",
              "1         0         0         0         0  \n",
              "2         0         0         0         0  \n",
              "3         0         0         0         0  \n",
              "4         0         0         0         0  \n",
              "\n",
              "[5 rows x 785 columns]"
            ],
            "text/html": [
              "\n",
              "  <div id=\"df-4f466cd1-528f-4e17-ad11-52d28838c656\" class=\"colab-df-container\">\n",
              "    <div>\n",
              "<style scoped>\n",
              "    .dataframe tbody tr th:only-of-type {\n",
              "        vertical-align: middle;\n",
              "    }\n",
              "\n",
              "    .dataframe tbody tr th {\n",
              "        vertical-align: top;\n",
              "    }\n",
              "\n",
              "    .dataframe thead th {\n",
              "        text-align: right;\n",
              "    }\n",
              "</style>\n",
              "<table border=\"1\" class=\"dataframe\">\n",
              "  <thead>\n",
              "    <tr style=\"text-align: right;\">\n",
              "      <th></th>\n",
              "      <th>label</th>\n",
              "      <th>pixel0</th>\n",
              "      <th>pixel1</th>\n",
              "      <th>pixel2</th>\n",
              "      <th>pixel3</th>\n",
              "      <th>pixel4</th>\n",
              "      <th>pixel5</th>\n",
              "      <th>pixel6</th>\n",
              "      <th>pixel7</th>\n",
              "      <th>pixel8</th>\n",
              "      <th>...</th>\n",
              "      <th>pixel774</th>\n",
              "      <th>pixel775</th>\n",
              "      <th>pixel776</th>\n",
              "      <th>pixel777</th>\n",
              "      <th>pixel778</th>\n",
              "      <th>pixel779</th>\n",
              "      <th>pixel780</th>\n",
              "      <th>pixel781</th>\n",
              "      <th>pixel782</th>\n",
              "      <th>pixel783</th>\n",
              "    </tr>\n",
              "  </thead>\n",
              "  <tbody>\n",
              "    <tr>\n",
              "      <th>0</th>\n",
              "      <td>1</td>\n",
              "      <td>0</td>\n",
              "      <td>0</td>\n",
              "      <td>0</td>\n",
              "      <td>0</td>\n",
              "      <td>0</td>\n",
              "      <td>0</td>\n",
              "      <td>0</td>\n",
              "      <td>0</td>\n",
              "      <td>0</td>\n",
              "      <td>...</td>\n",
              "      <td>0</td>\n",
              "      <td>0</td>\n",
              "      <td>0</td>\n",
              "      <td>0</td>\n",
              "      <td>0</td>\n",
              "      <td>0</td>\n",
              "      <td>0</td>\n",
              "      <td>0</td>\n",
              "      <td>0</td>\n",
              "      <td>0</td>\n",
              "    </tr>\n",
              "    <tr>\n",
              "      <th>1</th>\n",
              "      <td>0</td>\n",
              "      <td>0</td>\n",
              "      <td>0</td>\n",
              "      <td>0</td>\n",
              "      <td>0</td>\n",
              "      <td>0</td>\n",
              "      <td>0</td>\n",
              "      <td>0</td>\n",
              "      <td>0</td>\n",
              "      <td>0</td>\n",
              "      <td>...</td>\n",
              "      <td>0</td>\n",
              "      <td>0</td>\n",
              "      <td>0</td>\n",
              "      <td>0</td>\n",
              "      <td>0</td>\n",
              "      <td>0</td>\n",
              "      <td>0</td>\n",
              "      <td>0</td>\n",
              "      <td>0</td>\n",
              "      <td>0</td>\n",
              "    </tr>\n",
              "    <tr>\n",
              "      <th>2</th>\n",
              "      <td>1</td>\n",
              "      <td>0</td>\n",
              "      <td>0</td>\n",
              "      <td>0</td>\n",
              "      <td>0</td>\n",
              "      <td>0</td>\n",
              "      <td>0</td>\n",
              "      <td>0</td>\n",
              "      <td>0</td>\n",
              "      <td>0</td>\n",
              "      <td>...</td>\n",
              "      <td>0</td>\n",
              "      <td>0</td>\n",
              "      <td>0</td>\n",
              "      <td>0</td>\n",
              "      <td>0</td>\n",
              "      <td>0</td>\n",
              "      <td>0</td>\n",
              "      <td>0</td>\n",
              "      <td>0</td>\n",
              "      <td>0</td>\n",
              "    </tr>\n",
              "    <tr>\n",
              "      <th>3</th>\n",
              "      <td>4</td>\n",
              "      <td>0</td>\n",
              "      <td>0</td>\n",
              "      <td>0</td>\n",
              "      <td>0</td>\n",
              "      <td>0</td>\n",
              "      <td>0</td>\n",
              "      <td>0</td>\n",
              "      <td>0</td>\n",
              "      <td>0</td>\n",
              "      <td>...</td>\n",
              "      <td>0</td>\n",
              "      <td>0</td>\n",
              "      <td>0</td>\n",
              "      <td>0</td>\n",
              "      <td>0</td>\n",
              "      <td>0</td>\n",
              "      <td>0</td>\n",
              "      <td>0</td>\n",
              "      <td>0</td>\n",
              "      <td>0</td>\n",
              "    </tr>\n",
              "    <tr>\n",
              "      <th>4</th>\n",
              "      <td>0</td>\n",
              "      <td>0</td>\n",
              "      <td>0</td>\n",
              "      <td>0</td>\n",
              "      <td>0</td>\n",
              "      <td>0</td>\n",
              "      <td>0</td>\n",
              "      <td>0</td>\n",
              "      <td>0</td>\n",
              "      <td>0</td>\n",
              "      <td>...</td>\n",
              "      <td>0</td>\n",
              "      <td>0</td>\n",
              "      <td>0</td>\n",
              "      <td>0</td>\n",
              "      <td>0</td>\n",
              "      <td>0</td>\n",
              "      <td>0</td>\n",
              "      <td>0</td>\n",
              "      <td>0</td>\n",
              "      <td>0</td>\n",
              "    </tr>\n",
              "  </tbody>\n",
              "</table>\n",
              "<p>5 rows × 785 columns</p>\n",
              "</div>\n",
              "    <div class=\"colab-df-buttons\">\n",
              "\n",
              "  <div class=\"colab-df-container\">\n",
              "    <button class=\"colab-df-convert\" onclick=\"convertToInteractive('df-4f466cd1-528f-4e17-ad11-52d28838c656')\"\n",
              "            title=\"Convert this dataframe to an interactive table.\"\n",
              "            style=\"display:none;\">\n",
              "\n",
              "  <svg xmlns=\"http://www.w3.org/2000/svg\" height=\"24px\" viewBox=\"0 -960 960 960\">\n",
              "    <path d=\"M120-120v-720h720v720H120Zm60-500h600v-160H180v160Zm220 220h160v-160H400v160Zm0 220h160v-160H400v160ZM180-400h160v-160H180v160Zm440 0h160v-160H620v160ZM180-180h160v-160H180v160Zm440 0h160v-160H620v160Z\"/>\n",
              "  </svg>\n",
              "    </button>\n",
              "\n",
              "  <style>\n",
              "    .colab-df-container {\n",
              "      display:flex;\n",
              "      gap: 12px;\n",
              "    }\n",
              "\n",
              "    .colab-df-convert {\n",
              "      background-color: #E8F0FE;\n",
              "      border: none;\n",
              "      border-radius: 50%;\n",
              "      cursor: pointer;\n",
              "      display: none;\n",
              "      fill: #1967D2;\n",
              "      height: 32px;\n",
              "      padding: 0 0 0 0;\n",
              "      width: 32px;\n",
              "    }\n",
              "\n",
              "    .colab-df-convert:hover {\n",
              "      background-color: #E2EBFA;\n",
              "      box-shadow: 0px 1px 2px rgba(60, 64, 67, 0.3), 0px 1px 3px 1px rgba(60, 64, 67, 0.15);\n",
              "      fill: #174EA6;\n",
              "    }\n",
              "\n",
              "    .colab-df-buttons div {\n",
              "      margin-bottom: 4px;\n",
              "    }\n",
              "\n",
              "    [theme=dark] .colab-df-convert {\n",
              "      background-color: #3B4455;\n",
              "      fill: #D2E3FC;\n",
              "    }\n",
              "\n",
              "    [theme=dark] .colab-df-convert:hover {\n",
              "      background-color: #434B5C;\n",
              "      box-shadow: 0px 1px 3px 1px rgba(0, 0, 0, 0.15);\n",
              "      filter: drop-shadow(0px 1px 2px rgba(0, 0, 0, 0.3));\n",
              "      fill: #FFFFFF;\n",
              "    }\n",
              "  </style>\n",
              "\n",
              "    <script>\n",
              "      const buttonEl =\n",
              "        document.querySelector('#df-4f466cd1-528f-4e17-ad11-52d28838c656 button.colab-df-convert');\n",
              "      buttonEl.style.display =\n",
              "        google.colab.kernel.accessAllowed ? 'block' : 'none';\n",
              "\n",
              "      async function convertToInteractive(key) {\n",
              "        const element = document.querySelector('#df-4f466cd1-528f-4e17-ad11-52d28838c656');\n",
              "        const dataTable =\n",
              "          await google.colab.kernel.invokeFunction('convertToInteractive',\n",
              "                                                    [key], {});\n",
              "        if (!dataTable) return;\n",
              "\n",
              "        const docLinkHtml = 'Like what you see? Visit the ' +\n",
              "          '<a target=\"_blank\" href=https://colab.research.google.com/notebooks/data_table.ipynb>data table notebook</a>'\n",
              "          + ' to learn more about interactive tables.';\n",
              "        element.innerHTML = '';\n",
              "        dataTable['output_type'] = 'display_data';\n",
              "        await google.colab.output.renderOutput(dataTable, element);\n",
              "        const docLink = document.createElement('div');\n",
              "        docLink.innerHTML = docLinkHtml;\n",
              "        element.appendChild(docLink);\n",
              "      }\n",
              "    </script>\n",
              "  </div>\n",
              "\n",
              "\n",
              "<div id=\"df-8877cc25-f344-4b64-97ae-e2cdc043303a\">\n",
              "  <button class=\"colab-df-quickchart\" onclick=\"quickchart('df-8877cc25-f344-4b64-97ae-e2cdc043303a')\"\n",
              "            title=\"Suggest charts\"\n",
              "            style=\"display:none;\">\n",
              "\n",
              "<svg xmlns=\"http://www.w3.org/2000/svg\" height=\"24px\"viewBox=\"0 0 24 24\"\n",
              "     width=\"24px\">\n",
              "    <g>\n",
              "        <path d=\"M19 3H5c-1.1 0-2 .9-2 2v14c0 1.1.9 2 2 2h14c1.1 0 2-.9 2-2V5c0-1.1-.9-2-2-2zM9 17H7v-7h2v7zm4 0h-2V7h2v10zm4 0h-2v-4h2v4z\"/>\n",
              "    </g>\n",
              "</svg>\n",
              "  </button>\n",
              "\n",
              "<style>\n",
              "  .colab-df-quickchart {\n",
              "      --bg-color: #E8F0FE;\n",
              "      --fill-color: #1967D2;\n",
              "      --hover-bg-color: #E2EBFA;\n",
              "      --hover-fill-color: #174EA6;\n",
              "      --disabled-fill-color: #AAA;\n",
              "      --disabled-bg-color: #DDD;\n",
              "  }\n",
              "\n",
              "  [theme=dark] .colab-df-quickchart {\n",
              "      --bg-color: #3B4455;\n",
              "      --fill-color: #D2E3FC;\n",
              "      --hover-bg-color: #434B5C;\n",
              "      --hover-fill-color: #FFFFFF;\n",
              "      --disabled-bg-color: #3B4455;\n",
              "      --disabled-fill-color: #666;\n",
              "  }\n",
              "\n",
              "  .colab-df-quickchart {\n",
              "    background-color: var(--bg-color);\n",
              "    border: none;\n",
              "    border-radius: 50%;\n",
              "    cursor: pointer;\n",
              "    display: none;\n",
              "    fill: var(--fill-color);\n",
              "    height: 32px;\n",
              "    padding: 0;\n",
              "    width: 32px;\n",
              "  }\n",
              "\n",
              "  .colab-df-quickchart:hover {\n",
              "    background-color: var(--hover-bg-color);\n",
              "    box-shadow: 0 1px 2px rgba(60, 64, 67, 0.3), 0 1px 3px 1px rgba(60, 64, 67, 0.15);\n",
              "    fill: var(--button-hover-fill-color);\n",
              "  }\n",
              "\n",
              "  .colab-df-quickchart-complete:disabled,\n",
              "  .colab-df-quickchart-complete:disabled:hover {\n",
              "    background-color: var(--disabled-bg-color);\n",
              "    fill: var(--disabled-fill-color);\n",
              "    box-shadow: none;\n",
              "  }\n",
              "\n",
              "  .colab-df-spinner {\n",
              "    border: 2px solid var(--fill-color);\n",
              "    border-color: transparent;\n",
              "    border-bottom-color: var(--fill-color);\n",
              "    animation:\n",
              "      spin 1s steps(1) infinite;\n",
              "  }\n",
              "\n",
              "  @keyframes spin {\n",
              "    0% {\n",
              "      border-color: transparent;\n",
              "      border-bottom-color: var(--fill-color);\n",
              "      border-left-color: var(--fill-color);\n",
              "    }\n",
              "    20% {\n",
              "      border-color: transparent;\n",
              "      border-left-color: var(--fill-color);\n",
              "      border-top-color: var(--fill-color);\n",
              "    }\n",
              "    30% {\n",
              "      border-color: transparent;\n",
              "      border-left-color: var(--fill-color);\n",
              "      border-top-color: var(--fill-color);\n",
              "      border-right-color: var(--fill-color);\n",
              "    }\n",
              "    40% {\n",
              "      border-color: transparent;\n",
              "      border-right-color: var(--fill-color);\n",
              "      border-top-color: var(--fill-color);\n",
              "    }\n",
              "    60% {\n",
              "      border-color: transparent;\n",
              "      border-right-color: var(--fill-color);\n",
              "    }\n",
              "    80% {\n",
              "      border-color: transparent;\n",
              "      border-right-color: var(--fill-color);\n",
              "      border-bottom-color: var(--fill-color);\n",
              "    }\n",
              "    90% {\n",
              "      border-color: transparent;\n",
              "      border-bottom-color: var(--fill-color);\n",
              "    }\n",
              "  }\n",
              "</style>\n",
              "\n",
              "  <script>\n",
              "    async function quickchart(key) {\n",
              "      const quickchartButtonEl =\n",
              "        document.querySelector('#' + key + ' button');\n",
              "      quickchartButtonEl.disabled = true;  // To prevent multiple clicks.\n",
              "      quickchartButtonEl.classList.add('colab-df-spinner');\n",
              "      try {\n",
              "        const charts = await google.colab.kernel.invokeFunction(\n",
              "            'suggestCharts', [key], {});\n",
              "      } catch (error) {\n",
              "        console.error('Error during call to suggestCharts:', error);\n",
              "      }\n",
              "      quickchartButtonEl.classList.remove('colab-df-spinner');\n",
              "      quickchartButtonEl.classList.add('colab-df-quickchart-complete');\n",
              "    }\n",
              "    (() => {\n",
              "      let quickchartButtonEl =\n",
              "        document.querySelector('#df-8877cc25-f344-4b64-97ae-e2cdc043303a button');\n",
              "      quickchartButtonEl.style.display =\n",
              "        google.colab.kernel.accessAllowed ? 'block' : 'none';\n",
              "    })();\n",
              "  </script>\n",
              "</div>\n",
              "\n",
              "    </div>\n",
              "  </div>\n"
            ]
          },
          "metadata": {},
          "execution_count": 11
        }
      ]
    },
    {
      "cell_type": "markdown",
      "source": [
        "Since we can see that it matches, let us build our Neural Network class. It will contain:\n",
        "\n",
        "*   An **init** function where we initialize our weights and bias layers.\n",
        "*   The **cost** function so that we can see how our network's cost changes over time\n",
        "*   A **ReLU** function to activate our layers\n",
        "*   A **Softmax** function to convert our layer output values to be between 0 and 1\n",
        "*   A **forward** function to do forward propagation\n",
        "*   A **backward** function to do backward propagation\n",
        "*   A **train** function to automatically do gradient descent with each X and y input\n",
        "*   A **predict** function that automatically returns the model's prediction for an X input.\n",
        "\n",
        "(I was not sure if we could simply write loss.backward if I used pytorch or tensorflow() in our backprop algorithm so I wrote everything out using numpy)\n"
      ],
      "metadata": {
        "id": "r5QZ1_U2SF--"
      }
    },
    {
      "cell_type": "code",
      "source": [
        "class NeuralNetwork:\n",
        "  def __init__(self, lr, input, hidden, output):\n",
        "    self.lr = lr\n",
        "    self.W1 = np.random.randn(hidden, input)    # This is the weights of our first layer, in this program, of the shape (32, 784)\n",
        "    self.b1 = np.random.randn(hidden, 1)        # This is the bias of our first layer, in this program, of the shape (32, 1)\n",
        "    self.W2 = np.random.randn(output, hidden)   # This is the weights of our second layer, in this program, of the shape (10, 32)\n",
        "    self.b2 = np.random.randn(output, 1)        # This is the bias of our second layer, in this program, of the shape (10, 1)\n",
        "\n",
        "  def cost(self, y, pred):\n",
        "    costs = abs(y-pred.reshape(-1))                         # We are using a standard mean absolute error cost function\n",
        "    return np.mean(costs)\n",
        "\n",
        "  def ReLU(self, l):\n",
        "    return np.maximum(0, l)\n",
        "\n",
        "  def Softmax(self, l):\n",
        "    return np.exp(l)/np.sum(np.exp(l))\n",
        "\n",
        "  def forward(self, input):\n",
        "    input = input.reshape(self.W1.shape[1], -1)                     # We reshape the input to be 2 dimensional (just for syntax)\n",
        "    self.output1 = self.W1.dot(input)/len(self.W1) + self.b1        # First input this into our first layer. We divide by the length to avoid large exponents\n",
        "    self.layer1 = self.ReLU(self.output1)                           # ReLU activation to pass only the effective weights\n",
        "    self.output2 = self.W2.dot(self.layer1)/len(self.W2) + self.b2  # second layer\n",
        "\n",
        "    return self.Softmax(self.output2)                               # Now we pass the final output through Softmax to get our translated output\n",
        "\n",
        "  def backward(self, X, y, pred):\n",
        "    X = X.reshape(self.W1.shape[1], -1)\n",
        "    y = y.reshape(self.W2.shape[0], -1)       # We reshape the input to be 2 dimensional (just for syntax)\n",
        "    m = len(y)                                # the length of y will be used to average out arrays later\n",
        "\n",
        "    z2 = pred - y\n",
        "    dw2 = 1/m * z2.dot(self.layer1.T)         # We find the gradients for the second layer for both the weights and biases\n",
        "    db2 = 1/m * np.sum(z2, 1)\n",
        "    db2 = db2.reshape(-1, 1)\n",
        "\n",
        "    z1 = self.W2.T.dot(z2) * (self.output1 > 0)\n",
        "    dw1 = 1/m * z1.dot(X.T)                   # We find the gradients for the first layer for both the weights and biases\n",
        "    db1 = 1/m * np.sum(z1, 1)\n",
        "    db1 = db1.reshape(-1, 1)\n",
        "\n",
        "    self.W1 -= self.lr*dw1      # Update the weights and biases\n",
        "    self.b1 -= self.lr*db1\n",
        "    self.W2 -= self.lr*dw2\n",
        "    self.b2 -= self.lr*db2\n",
        "\n",
        "  def train(self, X, y):\n",
        "    pred = self.forward(X.T)\n",
        "    self.backward(X.T, y.T, pred)\n",
        "\n",
        "    return self.cost(y, pred)\n",
        "\n",
        "  def predict(self, input):\n",
        "    return np.argmax(self.forward(input))"
      ],
      "metadata": {
        "id": "S3I-3ltv6ccs"
      },
      "execution_count": 127,
      "outputs": []
    },
    {
      "cell_type": "markdown",
      "source": [
        "# **PART 2**\n",
        "\n",
        "**TASK 1**\n",
        "\n",
        "I used \"*Efficient BackProp*\" by Yann LeCunn, Leon Bottou, Genevieve B. Orr, and Klaus-Robert Muller. (*In our Submitty Course Materials*)\n",
        "\n",
        "(Special thanks to the youtube video \"Building a neural network FROM SCRATCH (no Tensorflow/Pytorch, just numpy & math)\" by Samson Zhang whomst I watched a long time ago.)\n",
        "\n",
        "**init**\n",
        "We can all understand why we used numpy arrays of random float values. np.random.randn() gives us random values between -0.5 and 0.5 allowing us to make random weights for our matrices.\n",
        "\n",
        "**Forward Prop**\n",
        "The forward propagation is simple, we do matrix multiplication or dot multiplication to change our layers (and adding our biases) until we have the output shape that we want. In between our layers, we have a ReLU activation. This is an important step since otherwise, passing our input through a (m by n) matrix layer and then  a (n by t) matrix layer would be no different from doing a (m by t) matrix layer that is the product of both which provides less diversity.\n",
        "The ReLU activation layer simply changes the negative values to 0 since we are looking for weights that will make positive growth. Negative values are inevitably going to be ignorable by the end of the forward propagation, thus we can save computational power by converting it to 0 and saving our computer the multiplication process.\n",
        "\n",
        "After we do a dot product with our layer, we divide our output by the length of that layer. This is because our outputs will inevitably turn out to be very huge if left to grow unchecked and since we have to a softmax with np.exp(), large values will return inf and mess up our code. This is our **normalization**\n",
        "\n",
        "**BackProp**\n",
        "The backward propagation is a little bit harder to understand but once the underlying process is realized, it is simple. We find the gradient for our second layer by finding the difference between our predicted values and actual values and doing a dot product with our output for the first layer since that was what produced our final output. The biases for our second layer is simply the sum of the differences of our predicted and actual, or the number that would get us closest to our actual.\n",
        "\n",
        "The gradient for our first layer follows the same process as the second but this time, we use our input X transposed in our dot multiplication since that was what produced our output for the first layer. Additionally, we multiply that by an array of 1's and 0's corresponding to whether the values of the outputs of our first layer was positive or negative for the same reason we use ReLU, we only want to focus on the values that make positive values."
      ],
      "metadata": {
        "id": "HPPctZKwtKia"
      }
    },
    {
      "cell_type": "markdown",
      "source": [
        "**TASK 2**\n",
        "\n",
        "We will:\n",
        "*   Perform the train-val-test split\n",
        "*   Visualize our data\n",
        "*   Implement the forward/backward propagation (model training)\n",
        "*   Compute the costs\n",
        "*   Get the final accuracy for the test set\n",
        "\n",
        "So we have 42,000 rows of 784 columns of data. Let us split that into a train, val, test set respectively into a 70%, 15%, and 15% for all data respectively."
      ],
      "metadata": {
        "id": "NzdULEUbLJke"
      }
    },
    {
      "cell_type": "code",
      "source": [
        "# PERFORMING THE TRAIN VAL TEST SPLIT\n",
        "train = df.loc[:w*0.7]\n",
        "val = df.loc[w*0.7:w*0.85].reset_index(drop = True)\n",
        "test = df.loc[w*0.85:].reset_index(drop = True)"
      ],
      "metadata": {
        "id": "ZCgdubC24LNo"
      },
      "execution_count": 12,
      "outputs": []
    },
    {
      "cell_type": "markdown",
      "source": [
        "We should check up on our data and make sure that it is well divided. Let's try seeing how much 0's, 1's, through 9's we have in each set"
      ],
      "metadata": {
        "id": "TN_i59v6Mn7M"
      }
    },
    {
      "cell_type": "code",
      "source": [
        "frequency = [[0]*3 for i in range(10)]\n",
        "for num, freq in train.label.value_counts().items():  frequency[num][0] = freq\n",
        "for num, freq in val.label.value_counts().items():    frequency[num][1] = freq\n",
        "for num, freq in test.label.value_counts().items():   frequency[num][2] = freq"
      ],
      "metadata": {
        "id": "Fr-1gmp08QGs"
      },
      "execution_count": 13,
      "outputs": []
    },
    {
      "cell_type": "code",
      "source": [
        "for i in range(10): print(\"Number of \", i, \"'s :   \", frequency[i][0], '\\t ', frequency[i][1], '\\t', frequency[i][2])"
      ],
      "metadata": {
        "colab": {
          "base_uri": "https://localhost:8080/"
        },
        "id": "lY8gnXfB_qIA",
        "outputId": "56d5704f-ad75-4977-8e69-1b5517278102"
      },
      "execution_count": 154,
      "outputs": [
        {
          "output_type": "stream",
          "name": "stdout",
          "text": [
            "Number of  0 's :    2869 \t  618 \t 645\n",
            "Number of  1 's :    3275 \t  696 \t 713\n",
            "Number of  2 's :    2951 \t  630 \t 597\n",
            "Number of  3 's :    3034 \t  669 \t 648\n",
            "Number of  4 's :    2888 \t  545 \t 639\n",
            "Number of  5 's :    2660 \t  588 \t 547\n",
            "Number of  6 's :    2910 \t  592 \t 635\n",
            "Number of  7 's :    3069 \t  701 \t 631\n",
            "Number of  8 's :    2828 \t  611 \t 624\n",
            "Number of  9 's :    2916 \t  651 \t 621\n"
          ]
        }
      ]
    },
    {
      "cell_type": "markdown",
      "source": [
        "Each set has a balanced variance of each number. Now Let us convert each set into X's and y's that the model can accept. For the y values, we'll be converting them into one hot encodings."
      ],
      "metadata": {
        "id": "k1HUPaJTOri3"
      }
    },
    {
      "cell_type": "code",
      "source": [
        "train_X, train_y = np.array(train.iloc[:, 1:]), np.zeros((len(train), 10))\n",
        "train_y[np.arange(len(train)), train.label] = 1\n",
        "\n",
        "val_X, val_y = np.array(val.iloc[:, 1:]), np.zeros((len(val), 10))\n",
        "val_y[np.arange(len(val)), val.label] = 1\n",
        "\n",
        "test_X, test_y = np.array(test.iloc[:, 1:]), np.zeros((len(test), 10))\n",
        "test_y[np.arange(len(test)), test.label] = 1"
      ],
      "metadata": {
        "id": "L9HUKDUdTzHa"
      },
      "execution_count": 21,
      "outputs": []
    },
    {
      "cell_type": "markdown",
      "source": [
        "Let's try visualizing the data by plotting the x points and comparing it to the y values."
      ],
      "metadata": {
        "id": "Y6611MVMR2-w"
      }
    },
    {
      "cell_type": "code",
      "source": [
        "print(\"Expected drawing: \", np.argmax(train_y[0]))\n",
        "plt.figure()\n",
        "plt.imshow(train_X[0].reshape(28, 28))\n",
        "plt.show()\n",
        "print(\"It works!\")"
      ],
      "metadata": {
        "id": "q4d9tePO5OkP",
        "colab": {
          "base_uri": "https://localhost:8080/",
          "height": 465
        },
        "outputId": "6930e834-7474-4181-a6ec-8a2883356015"
      },
      "execution_count": 46,
      "outputs": [
        {
          "output_type": "stream",
          "name": "stdout",
          "text": [
            "Expected drawing:  1\n"
          ]
        },
        {
          "output_type": "display_data",
          "data": {
            "text/plain": [
              "<Figure size 640x480 with 1 Axes>"
            ],
            "image/png": "[encoded data removed]"
          },
          "metadata": {}
        },
        {
          "output_type": "stream",
          "name": "stdout",
          "text": [
            "It works!\n"
          ]
        }
      ]
    },
    {
      "cell_type": "code",
      "source": [
        "model = NeuralNetwork(2e-5, 784, 32, 10)"
      ],
      "metadata": {
        "id": "eFNXdcuUxrll"
      },
      "execution_count": 142,
      "outputs": []
    },
    {
      "cell_type": "code",
      "source": [
        "EPOCHS = 30\n",
        "cost_list = []\n",
        "for e in range(EPOCHS):\n",
        "  cost = 0\n",
        "  for i, (_x, _y)  in enumerate(zip(train_X, train_y)):     # Note: I know that I have set up my code to be able to take in batches\n",
        "                                                            # of information at once but I am doing it this way out of preference\n",
        "    cost += model.train(_x, _y)     # Since we have set up train to return the cost of each forward progress, let us save the costs to plot it out\n",
        "\n",
        "    if i%20 == 0 and i != 0:\n",
        "      cost_list.append(cost/20)    # We average out the costs over every 100 iterations to not be confused with the occasional outlier\n",
        "      cost = 0\n",
        "\n",
        "  acc = 0\n",
        "  for i, (_x, _y) in enumerate(zip(val_X, val_y)):\n",
        "    acc += _y[model.predict(_x)]\n",
        "  print(e, '\\t', acc/len(val))      # We print the accuracy of the model on the val set every epoch to see the progress we are making"
      ],
      "metadata": {
        "colab": {
          "base_uri": "https://localhost:8080/"
        },
        "id": "GqnplqZ-U07T",
        "outputId": "3d2e0a15-9d79-45b3-8d65-7eca91e1eb37"
      },
      "execution_count": 143,
      "outputs": [
        {
          "output_type": "stream",
          "name": "stdout",
          "text": [
            "0 \t 0.5530868116172036\n",
            "1 \t 0.5819711156959213\n",
            "2 \t 0.6197428979527059\n",
            "3 \t 0.6500555467386129\n",
            "4 \t 0.6737025868909697\n",
            "5 \t 0.6949690525313442\n",
            "6 \t 0.7111569592128234\n",
            "7 \t 0.727186160926837\n",
            "8 \t 0.7414696079987304\n",
            "9 \t 0.7490874464370735\n",
            "10 \t 0.7565465799079512\n",
            "11 \t 0.7641644183462942\n",
            "12 \t 0.7711474369147754\n",
            "13 \t 0.7779717505157911\n",
            "14 \t 0.7833677194096175\n",
            "15 \t 0.7892398032058403\n",
            "16 \t 0.7946357720996667\n",
            "17 \t 0.7986033962863037\n",
            "18 \t 0.8024123155054753\n",
            "19 \t 0.8073321694969052\n",
            "20 \t 0.8111410887160768\n",
            "21 \t 0.8135216632280591\n",
            "22 \t 0.818441517219489\n",
            "23 \t 0.8220917314711951\n",
            "24 \t 0.8251071258530392\n",
            "25 \t 0.8263767655927631\n",
            "26 \t 0.8282812252023488\n",
            "27 \t 0.8298682748770037\n",
            "28 \t 0.8332010791937787\n",
            "29 \t 0.8344707189335027\n"
          ]
        }
      ]
    },
    {
      "cell_type": "code",
      "source": [
        "plt.plot(cost_list[::100])\n",
        "plt.show()"
      ],
      "metadata": {
        "colab": {
          "base_uri": "https://localhost:8080/",
          "height": 430
        },
        "id": "LwArtMn20qIC",
        "outputId": "085226a7-5f1d-42f3-c495-79312921ce94"
      },
      "execution_count": 149,
      "outputs": [
        {
          "output_type": "display_data",
          "data": {
            "text/plain": [
              "<Figure size 640x480 with 1 Axes>"
            ],
            "image/png": "[encoded data removed]"
          },
          "metadata": {}
        }
      ]
    },
    {
      "cell_type": "code",
      "source": [
        "int(len(cost_list)/200)"
      ],
      "metadata": {
        "colab": {
          "base_uri": "https://localhost:8080/"
        },
        "id": "br-Ornqc1bBs",
        "outputId": "e771b426-7f7f-40fb-968b-2bd0d21ff818"
      },
      "execution_count": 59,
      "outputs": [
        {
          "output_type": "execute_result",
          "data": {
            "text/plain": [
              "4410"
            ]
          },
          "metadata": {},
          "execution_count": 59
        }
      ]
    },
    {
      "cell_type": "code",
      "source": [
        "model.predict(train_X[9].T)"
      ],
      "metadata": {
        "colab": {
          "base_uri": "https://localhost:8080/"
        },
        "id": "bZ1IGbEo1od5",
        "outputId": "7179f311-1490-4a1b-81e4-2ed22b1eef11"
      },
      "execution_count": 43,
      "outputs": [
        {
          "output_type": "execute_result",
          "data": {
            "text/plain": [
              "3"
            ]
          },
          "metadata": {},
          "execution_count": 43
        }
      ]
    },
    {
      "cell_type": "markdown",
      "source": [
        "Now, let's compute our final accuracy for our test set"
      ],
      "metadata": {
        "id": "DmgfxdKbEGGh"
      }
    },
    {
      "cell_type": "code",
      "source": [
        "acc = 0\n",
        "for i, (_x, _y) in enumerate(zip(test_X, test_y)):\n",
        "  acc += _y[model.predict(_x)]\n",
        "print(acc/len(test))"
      ],
      "metadata": {
        "colab": {
          "base_uri": "https://localhost:8080/"
        },
        "id": "kQy4e1WB1Vp9",
        "outputId": "3017a956-7c1b-4ab8-822c-b421bf6d821e"
      },
      "execution_count": 153,
      "outputs": [
        {
          "output_type": "stream",
          "name": "stdout",
          "text": [
            "0.8377777777777777\n"
          ]
        }
      ]
    },
    {
      "cell_type": "markdown",
      "source": [
        "We got a respectable 83% accuracy."
      ],
      "metadata": {
        "id": "AM5FqRZUESCb"
      }
    },
    {
      "cell_type": "markdown",
      "source": [
        "**TASK 3**\n",
        "\n",
        "The hyperparameters I used were rather standard and very scant since I coded the whole thing with numpy instead of using pytorch or tensorflow. The few that I used include:\n",
        "*   Learning rate\n",
        "*   The number of neurons used in the model\n",
        "\n",
        "I selected a very reasonable 2e-5 for the learning rate. I had tinkered with various values ranging from 1e-3 to 5e-6. I thought that 1e-5 was the most standard value but chose to use 2e-5 to speed up the training process.\n",
        "\n",
        "The numbers 784 and 10 are inevitable dimensions for the model (unless I got rid of some pixel data along the sides of the X inputs's). I began the training process by using 64 as the middle layer dimension as (784, 64) and (64, 10). However, I switched to 32 as I saw relatively little change in accuracy while effectively halving the training time. Using 64 would have been objectively better as more neurons can hold more information. However, I believe that the best way to increase accuracy would be to add one more layer in the middle, a (64, 64) layer to give one more check over the input data, but I was constrained by the rules of this project.\n",
        "\n",
        "I used normalization or I suppose you could call it regularization in the middle of forward propagation. Having values too large going into Softmax caused an exponent to the power of numbers in the thousands returning inf and causing my weights and biases to turn into nan's. Thus, regularization was absolutely essential.\n",
        "\n",
        "I used the most standard gradient descent algorithm, done by HAND. It was an awful long process. It was done using MATH and CALCULUS. It was absolutely essential as it is the heart behind neural network learning and I would have liked to know how Adam or RMSProp worked but I had not so I could not use it.\n"
      ],
      "metadata": {
        "id": "xlJS3W1qGHB9"
      }
    }
  ]
}