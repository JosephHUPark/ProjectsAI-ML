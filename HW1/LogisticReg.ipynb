{
  "cells": [
    {
      "cell_type": "code",
      "execution_count": 21,
      "metadata": {
        "id": "iVCkzgOZOo1I"
      },
      "outputs": [],
      "source": [
        "import numpy as np\n",
        "import pandas as pd\n",
        "import torch\n",
        "from matplotlib import pyplot as plt\n",
        "from sklearn.datasets import load_breast_cancer"
      ]
    },
    {
      "cell_type": "code",
      "execution_count": 20,
      "metadata": {
        "colab": {
          "base_uri": "https://localhost:8080/"
        },
        "id": "-XEGV_IrOo1O",
        "outputId": "565c777b-78a9-4f79-9b85-324e8adf4912"
      },
      "outputs": [
        {
          "output_type": "execute_result",
          "data": {
            "text/plain": [
              "((569, 30), (569,))"
            ]
          },
          "metadata": {},
          "execution_count": 20
        }
      ],
      "source": [
        "dataset = load_breast_cancer()"
      ]
    },
    {
      "cell_type": "code",
      "source": [
        "dset.shape"
      ],
      "metadata": {
        "colab": {
          "base_uri": "https://localhost:8080/"
        },
        "id": "fpO-56fFn8Fb",
        "outputId": "83bf70ca-6446-4a9e-dbf2-c527ab336c1b"
      },
      "execution_count": 212,
      "outputs": [
        {
          "output_type": "execute_result",
          "data": {
            "text/plain": [
              "(569, 30)"
            ]
          },
          "metadata": {},
          "execution_count": 212
        }
      ]
    },
    {
      "cell_type": "code",
      "source": [
        "dset = dataset.data\n",
        "dset = np.column_stack((dset, dataset.target))\n",
        "dset.shape"
      ],
      "metadata": {
        "colab": {
          "base_uri": "https://localhost:8080/"
        },
        "id": "x0ThDVGqQpZM",
        "outputId": "eec28652-7785-4056-95d3-7838bbc3cbb2"
      },
      "execution_count": 218,
      "outputs": [
        {
          "output_type": "execute_result",
          "data": {
            "text/plain": [
              "(569, 31)"
            ]
          },
          "metadata": {},
          "execution_count": 218
        }
      ]
    },
    {
      "cell_type": "code",
      "source": [
        "train_set = dset[:-100]\n",
        "val_set = dset[-100:-50]\n",
        "test_set = dset[-50:]"
      ],
      "metadata": {
        "id": "xepnjtUHRSEh"
      },
      "execution_count": 222,
      "outputs": []
    },
    {
      "cell_type": "code",
      "source": [
        "len(train_set), len(val_set), len(test_set)"
      ],
      "metadata": {
        "colab": {
          "base_uri": "https://localhost:8080/"
        },
        "id": "-3irbh6uRgCa",
        "outputId": "bc024aef-5707-4621-8d47-8fed3e1d23f2"
      },
      "execution_count": 223,
      "outputs": [
        {
          "output_type": "execute_result",
          "data": {
            "text/plain": [
              "(469, 50, 50)"
            ]
          },
          "metadata": {},
          "execution_count": 223
        }
      ]
    },
    {
      "cell_type": "code",
      "execution_count": 280,
      "metadata": {
        "scrolled": true,
        "id": "QXxbvOMrOo1S"
      },
      "outputs": [],
      "source": [
        "class LogisticModel():\n",
        "  def __init__(self, n_input):\n",
        "    self.lr = 1e-5\n",
        "    self.layer = np.zeros((n_input, 1))\n",
        "\n",
        "  def cost(self, pred, y):\n",
        "    cost = (y) * np.log(pred) + (1-y)*np.log(1-pred)\n",
        "    regularization_cost = 10 *np.mean(self.layer**2)\n",
        "    return -np.mean(cost) + regularization_cost\n",
        "\n",
        "  def sigmoid(self, X):\n",
        "    return 1/(1+np.exp(-X))\n",
        "\n",
        "  def gradient_descent(self, pred, y, X):\n",
        "    length = len(X)\n",
        "    difference = y - pred\n",
        "    gradient = (-2/length) * X.T.dot(difference)\n",
        "    self.layer -= self.lr * gradient\n",
        "\n",
        "  def forward(self, X, y):\n",
        "    pred = self.sigmoid(X.dot(self.layer))\n",
        "\n",
        "    cost = self.cost(pred, y)\n",
        "    self.gradient_descent(pred, y, X)\n",
        "\n",
        "  def predict(self, X):\n",
        "    vals = self.sigmoid(X.dot(self.layer))\n",
        "    for i in range(len(vals)):\n",
        "      if vals[i] >= 0.5:\n",
        "        vals[i] = 1\n",
        "      else:\n",
        "        vals[i] = 0\n",
        "    return vals\n",
        "\n",
        "  def accuracy(self, X, y):\n",
        "    score = 0\n",
        "    _x = self.predict(X)\n",
        "    for i in range(len(y)):\n",
        "      if _x[i] == y[i]:\n",
        "        score += 1\n",
        "\n",
        "    return score / len(y)"
      ]
    },
    {
      "cell_type": "code",
      "source": [
        "model = LogisticModel(30)"
      ],
      "metadata": {
        "id": "1trffMxNSjGx"
      },
      "execution_count": 281,
      "outputs": []
    },
    {
      "cell_type": "code",
      "execution_count": 282,
      "metadata": {
        "colab": {
          "base_uri": "https://localhost:8080/"
        },
        "id": "e3zVRROYOo1T",
        "outputId": "04795bf7-99b5-49b4-e3be-b42ae3ded602"
      },
      "outputs": [
        {
          "output_type": "stream",
          "name": "stdout",
          "text": [
            "0.26\n",
            "0.26\n",
            "0.74\n",
            "0.26\n",
            "0.74\n",
            "0.9\n",
            "0.76\n",
            "0.88\n",
            "0.76\n",
            "0.8\n"
          ]
        }
      ],
      "source": [
        "for e in range(100):\n",
        "  X = train_set[:, :-1]\n",
        "  y = train_set[:, -1:]\n",
        "  model.forward(X, y)\n",
        "\n",
        "  if e%10 == 0:\n",
        "    X = val_set[:, :-1]\n",
        "    y = val_set[:, -1:]\n",
        "    print(model.accuracy(X, y))\n",
        ""
      ]
    },
    {
      "cell_type": "code",
      "execution_count": 278,
      "metadata": {
        "colab": {
          "base_uri": "https://localhost:8080/"
        },
        "id": "fZoAdTCXOo1U",
        "outputId": "ba2e8490-2ecf-4cd1-8b1a-4c878dab0b94"
      },
      "outputs": [
        {
          "output_type": "stream",
          "name": "stdout",
          "text": [
            "0.94\n"
          ]
        }
      ],
      "source": [
        "X = test_set[:, :-1]\n",
        "y = test_set[:, -1:]\n",
        "print(model.accuracy(X, y))"
      ]
    },
    {
      "cell_type": "code",
      "execution_count": null,
      "metadata": {
        "id": "otlQYDBHOo1W"
      },
      "outputs": [],
      "source": []
    }
  ],
  "metadata": {
    "kernelspec": {
      "display_name": "Python 3 (ipykernel)",
      "language": "python",
      "name": "python3"
    },
    "language_info": {
      "codemirror_mode": {
        "name": "ipython",
        "version": 3
      },
      "file_extension": ".py",
      "mimetype": "text/x-python",
      "name": "python",
      "nbconvert_exporter": "python",
      "pygments_lexer": "ipython3",
      "version": "3.9.12"
    },
    "colab": {
      "provenance": []
    }
  },
  "nbformat": 4,
  "nbformat_minor": 0
}