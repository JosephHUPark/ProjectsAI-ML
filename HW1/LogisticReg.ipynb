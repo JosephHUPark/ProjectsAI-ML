{
  "cells": [
    {
      "cell_type": "code",
      "execution_count": 1,
      "metadata": {
        "id": "iVCkzgOZOo1I"
      },
      "outputs": [],
      "source": [
        "import numpy as np\n",
        "import pandas as pd\n",
        "import torch\n",
        "from matplotlib import pyplot as plt\n",
        "from sklearn.datasets import load_breast_cancer"
      ]
    },
    {
      "cell_type": "code",
      "execution_count": 2,
      "metadata": {
        "id": "-XEGV_IrOo1O"
      },
      "outputs": [],
      "source": [
        "dataset = load_breast_cancer() # getting the breast cancer data from sklearn"
      ]
    },
    {
      "cell_type": "code",
      "source": [
        "dset = dataset.data\n",
        "dset = np.column_stack((dset, dataset.target))\n",
        "dset.shape"
      ],
      "metadata": {
        "colab": {
          "base_uri": "https://localhost:8080/"
        },
        "id": "x0ThDVGqQpZM",
        "outputId": "353da46f-64be-4328-e831-74c431c3fffa"
      },
      "execution_count": 3,
      "outputs": [
        {
          "output_type": "execute_result",
          "data": {
            "text/plain": [
              "(569, 31)"
            ]
          },
          "metadata": {},
          "execution_count": 3
        }
      ]
    },
    {
      "cell_type": "code",
      "source": [
        "train_set = dset[:-100]\n",
        "val_set = dset[-100:-50]\n",
        "test_set = dset[-50:]"
      ],
      "metadata": {
        "id": "xepnjtUHRSEh"
      },
      "execution_count": 4,
      "outputs": []
    },
    {
      "cell_type": "code",
      "source": [
        "len(train_set), len(val_set), len(test_set)"
      ],
      "metadata": {
        "colab": {
          "base_uri": "https://localhost:8080/"
        },
        "id": "-3irbh6uRgCa",
        "outputId": "5efb67b1-3655-407e-d08b-b08080bb97ed"
      },
      "execution_count": 5,
      "outputs": [
        {
          "output_type": "execute_result",
          "data": {
            "text/plain": [
              "(469, 50, 50)"
            ]
          },
          "metadata": {},
          "execution_count": 5
        }
      ]
    },
    {
      "cell_type": "code",
      "execution_count": 101,
      "metadata": {
        "scrolled": true,
        "id": "QXxbvOMrOo1S"
      },
      "outputs": [],
      "source": [
        "class LogisticModel():\n",
        "  def __init__(self, n_input):\n",
        "    self.lr = 1e-4\n",
        "    self.layer = np.zeros((n_input, 1)) # theta of values that will compute output\n",
        "\n",
        "  def cost(self, pred, y):\n",
        "    cost = y-pred # calculates the cost (standard difference)\n",
        "    return cost\n",
        "\n",
        "  def sigmoid(self, X):\n",
        "    return 1/(1+np.exp(-X))\n",
        "\n",
        "  def gradient_descent(self, pred, y, X): # regular gradient descent\n",
        "    length = len(X)\n",
        "    difference = self.cost(pred, y)\n",
        "    gradient = (-2/length) * X.T.dot(difference) # finding the gradients and also the derivatives\n",
        "    self.layer -= self.lr * gradient\n",
        "\n",
        "  def forward(self, X, y): #forwards input through hidden layer\n",
        "    pred = self.sigmoid(X.dot(self.layer))\n",
        "    self.gradient_descent(pred, y, X)\n",
        "\n",
        "  def predict(self, X):\n",
        "    vals = self.sigmoid(X.dot(self.layer))\n",
        "    vals = [ int(x >= 0.5) for x in vals ]\n",
        "    return vals\n",
        "\n",
        "  def accuracy(self, X, y):\n",
        "    score = 0\n",
        "    _x = self.predict(X)\n",
        "    for i in range(len(y)):\n",
        "      score += int(_x[i] == y[i])\n",
        "\n",
        "    return score / len(y)"
      ]
    },
    {
      "cell_type": "code",
      "source": [
        "model = LogisticModel(30)"
      ],
      "metadata": {
        "id": "1trffMxNSjGx"
      },
      "execution_count": 102,
      "outputs": []
    },
    {
      "cell_type": "code",
      "execution_count": 103,
      "metadata": {
        "colab": {
          "base_uri": "https://localhost:8080/"
        },
        "id": "e3zVRROYOo1T",
        "outputId": "c0520f50-485b-4699-9dd9-82ac762a45cf"
      },
      "outputs": [
        {
          "output_type": "stream",
          "name": "stdout",
          "text": [
            "0.26\n",
            "0.76\n",
            "0.86\n",
            "0.9\n",
            "0.9\n",
            "0.84\n",
            "0.84\n",
            "0.86\n",
            "0.9\n",
            "0.84\n"
          ]
        }
      ],
      "source": [
        "for e in range(1000):\n",
        "  X = train_set[:, :-1]\n",
        "  y = train_set[:, -1:]\n",
        "  model.forward(X, y)\n",
        "\n",
        "  if e%100 == 0:\n",
        "    X = val_set[:, :-1]\n",
        "    y = val_set[:, -1:]\n",
        "    print(model.accuracy(X, y))\n",
        ""
      ]
    },
    {
      "cell_type": "code",
      "execution_count": 104,
      "metadata": {
        "colab": {
          "base_uri": "https://localhost:8080/"
        },
        "id": "fZoAdTCXOo1U",
        "outputId": "885a0ea2-95c5-4236-e629-10d5c770aeb9"
      },
      "outputs": [
        {
          "output_type": "stream",
          "name": "stdout",
          "text": [
            "0.9\n"
          ]
        }
      ],
      "source": [
        "X = test_set[:, :-1]\n",
        "y = test_set[:, -1:]\n",
        "print(model.accuracy(X, y))"
      ]
    },
    {
      "cell_type": "code",
      "execution_count": null,
      "metadata": {
        "id": "otlQYDBHOo1W"
      },
      "outputs": [],
      "source": []
    }
  ],
  "metadata": {
    "kernelspec": {
      "display_name": "Python 3 (ipykernel)",
      "language": "python",
      "name": "python3"
    },
    "language_info": {
      "codemirror_mode": {
        "name": "ipython",
        "version": 3
      },
      "file_extension": ".py",
      "mimetype": "text/x-python",
      "name": "python",
      "nbconvert_exporter": "python",
      "pygments_lexer": "ipython3",
      "version": "3.9.12"
    },
    "colab": {
      "provenance": []
    }
  },
  "nbformat": 4,
  "nbformat_minor": 0
}