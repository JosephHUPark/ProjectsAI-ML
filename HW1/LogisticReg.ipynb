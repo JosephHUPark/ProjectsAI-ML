{
  "cells": [
    {
      "cell_type": "code",
      "execution_count": 21,
      "metadata": {
        "id": "iVCkzgOZOo1I"
      },
      "outputs": [],
      "source": [
        "import numpy as np\n",
        "import pandas as pd\n",
        "import torch\n",
        "from matplotlib import pyplot as plt\n",
        "from sklearn.datasets import load_breast_cancer"
      ]
    },
    {
      "cell_type": "code",
      "execution_count": 20,
      "metadata": {
        "colab": {
          "base_uri": "https://localhost:8080/"
        },
        "id": "-XEGV_IrOo1O",
        "outputId": "565c777b-78a9-4f79-9b85-324e8adf4912"
      },
      "outputs": [
        {
          "output_type": "execute_result",
          "data": {
            "text/plain": [
              "((569, 30), (569,))"
            ]
          },
          "metadata": {},
          "execution_count": 20
        }
      ],
      "source": [
        "dataset = load_breast_cancer()"
      ]
    },
    {
      "cell_type": "code",
      "source": [
        "dset = []\n",
        "for i in zip(dataset.data, dataset.target):\n",
        "  a = ([0]*2)\n",
        "  a[i[1]] = 1\n",
        "  dset.append((torch.tensor(i[0], dtype=torch.float32),\n",
        "               torch.tensor(a, dtype=torch.float32)))"
      ],
      "metadata": {
        "id": "x0ThDVGqQpZM"
      },
      "execution_count": 56,
      "outputs": []
    },
    {
      "cell_type": "code",
      "source": [
        "train_set = dset[:-100]\n",
        "val_set = dset[-100:-50]\n",
        "test_set = dset[-50:]"
      ],
      "metadata": {
        "id": "xepnjtUHRSEh"
      },
      "execution_count": 57,
      "outputs": []
    },
    {
      "cell_type": "code",
      "source": [
        "train_set[0][0]"
      ],
      "metadata": {
        "colab": {
          "base_uri": "https://localhost:8080/"
        },
        "id": "2ig-4jpaVvPF",
        "outputId": "8fc88450-1f6e-4022-c465-2df1b2740cb6"
      },
      "execution_count": 58,
      "outputs": [
        {
          "output_type": "execute_result",
          "data": {
            "text/plain": [
              "tensor([1.7990e+01, 1.0380e+01, 1.2280e+02, 1.0010e+03, 1.1840e-01, 2.7760e-01,\n",
              "        3.0010e-01, 1.4710e-01, 2.4190e-01, 7.8710e-02, 1.0950e+00, 9.0530e-01,\n",
              "        8.5890e+00, 1.5340e+02, 6.3990e-03, 4.9040e-02, 5.3730e-02, 1.5870e-02,\n",
              "        3.0030e-02, 6.1930e-03, 2.5380e+01, 1.7330e+01, 1.8460e+02, 2.0190e+03,\n",
              "        1.6220e-01, 6.6560e-01, 7.1190e-01, 2.6540e-01, 4.6010e-01, 1.1890e-01])"
            ]
          },
          "metadata": {},
          "execution_count": 58
        }
      ]
    },
    {
      "cell_type": "code",
      "source": [
        "len(train_set), len(val_set), len(test_set)"
      ],
      "metadata": {
        "colab": {
          "base_uri": "https://localhost:8080/"
        },
        "id": "-3irbh6uRgCa",
        "outputId": "f5b602dd-bb16-4ecb-8d4b-58b45c523c3c"
      },
      "execution_count": 59,
      "outputs": [
        {
          "output_type": "execute_result",
          "data": {
            "text/plain": [
              "(469, 50, 50)"
            ]
          },
          "metadata": {},
          "execution_count": 59
        }
      ]
    },
    {
      "cell_type": "code",
      "execution_count": 187,
      "metadata": {
        "scrolled": true,
        "id": "QXxbvOMrOo1S"
      },
      "outputs": [],
      "source": [
        "class LogisticModel(torch.nn.Module):\n",
        "  def __init__(self, n_inputs, n_outputs):\n",
        "    super(LogisticModel, self).__init__()\n",
        "\n",
        "    self.encoder = torch.nn.Sequential(\n",
        "        torch.nn.Linear(n_inputs*5, 16),\n",
        "        torch.nn.ReLU(),\n",
        "        torch.nn.Linear(16, 4),\n",
        "        torch.nn.ReLU(),\n",
        "        torch.nn.Linear(4, n_outputs)\n",
        "    )\n",
        "\n",
        "  def forward(self, x):\n",
        "    features = x\n",
        "\n",
        "    for i in range(1, 3):\n",
        "            features = torch.cat((features, torch.sin(i*x)), dim = -1)\n",
        "            features = torch.cat((features, torch.cos(i*x)), dim = -1)\n",
        "\n",
        "    return torch.sigmoid(self.encoder(features))"
      ]
    },
    {
      "cell_type": "code",
      "source": [
        "model = LogisticModel(30, 2)"
      ],
      "metadata": {
        "id": "1trffMxNSjGx"
      },
      "execution_count": 188,
      "outputs": []
    },
    {
      "cell_type": "code",
      "source": [
        "EPOCHS = 300\n",
        "optimizer = torch.optim.AdamW(model.parameters(), lr = 1e-5)\n",
        "criterion = torch.nn.CrossEntropyLoss()"
      ],
      "metadata": {
        "id": "J9d0baVyTJwf"
      },
      "execution_count": 189,
      "outputs": []
    },
    {
      "cell_type": "code",
      "execution_count": 190,
      "metadata": {
        "colab": {
          "base_uri": "https://localhost:8080/"
        },
        "id": "e3zVRROYOo1T",
        "outputId": "5f581dba-ca4a-45b8-9681-e267fcb5e288"
      },
      "outputs": [
        {
          "output_type": "stream",
          "name": "stdout",
          "text": [
            "0 \t 37 / 50 \t 0.74\n",
            "10 \t 38 / 50 \t 0.76\n",
            "20 \t 37 / 50 \t 0.74\n",
            "30 \t 37 / 50 \t 0.74\n",
            "40 \t 37 / 50 \t 0.74\n",
            "50 \t 44 / 50 \t 0.88\n",
            "60 \t 44 / 50 \t 0.88\n",
            "70 \t 44 / 50 \t 0.88\n",
            "80 \t 44 / 50 \t 0.88\n",
            "90 \t 44 / 50 \t 0.88\n",
            "100 \t 44 / 50 \t 0.88\n",
            "110 \t 44 / 50 \t 0.88\n",
            "120 \t 43 / 50 \t 0.86\n",
            "130 \t 43 / 50 \t 0.86\n",
            "140 \t 43 / 50 \t 0.86\n",
            "150 \t 43 / 50 \t 0.86\n",
            "160 \t 43 / 50 \t 0.86\n",
            "170 \t 44 / 50 \t 0.88\n",
            "180 \t 44 / 50 \t 0.88\n",
            "190 \t 45 / 50 \t 0.9\n",
            "200 \t 45 / 50 \t 0.9\n",
            "210 \t 45 / 50 \t 0.9\n",
            "220 \t 45 / 50 \t 0.9\n",
            "230 \t 45 / 50 \t 0.9\n",
            "240 \t 45 / 50 \t 0.9\n",
            "250 \t 45 / 50 \t 0.9\n",
            "260 \t 45 / 50 \t 0.9\n",
            "270 \t 44 / 50 \t 0.88\n",
            "280 \t 44 / 50 \t 0.88\n",
            "290 \t 44 / 50 \t 0.88\n"
          ]
        }
      ],
      "source": [
        "for e in range(EPOCHS):\n",
        "  model.train()\n",
        "  for x, label in train_set:\n",
        "    optimizer.zero_grad()\n",
        "    output = model(x)\n",
        "\n",
        "    loss = criterion(output, label)\n",
        "    loss.backward()\n",
        "\n",
        "    optimizer.step()\n",
        "\n",
        "  if e%10 == 0:\n",
        "    model.eval()\n",
        "    accuracy = 0\n",
        "    for x, label in val_set:\n",
        "      label = label.detach().numpy()\n",
        "      output = model(x).detach().numpy()\n",
        "\n",
        "      if label[np.argmax(output)] == 1:\n",
        "        accuracy += 1\n",
        "    print(e, '\\t', accuracy, \"/\", len(val_set), \"\\t\", accuracy/(len(val_set)))"
      ]
    },
    {
      "cell_type": "code",
      "execution_count": 192,
      "metadata": {
        "colab": {
          "base_uri": "https://localhost:8080/"
        },
        "id": "fZoAdTCXOo1U",
        "outputId": "44a53cf9-877e-4858-cf72-3ac301db55c8"
      },
      "outputs": [
        {
          "output_type": "stream",
          "name": "stdout",
          "text": [
            "48 / 50 \t 0.96\n"
          ]
        }
      ],
      "source": [
        "model.eval()\n",
        "accuracy = 0\n",
        "for x, label in test_set:\n",
        "  label = label.detach().numpy()\n",
        "  output = model(x).detach().numpy()\n",
        "\n",
        "  if label[np.argmax(output)] == 1:\n",
        "    accuracy += 1\n",
        "print(accuracy, \"/\", len(val_set), \"\\t\", accuracy/(len(val_set)))"
      ]
    },
    {
      "cell_type": "code",
      "execution_count": null,
      "metadata": {
        "id": "otlQYDBHOo1W"
      },
      "outputs": [],
      "source": []
    }
  ],
  "metadata": {
    "kernelspec": {
      "display_name": "Python 3 (ipykernel)",
      "language": "python",
      "name": "python3"
    },
    "language_info": {
      "codemirror_mode": {
        "name": "ipython",
        "version": 3
      },
      "file_extension": ".py",
      "mimetype": "text/x-python",
      "name": "python",
      "nbconvert_exporter": "python",
      "pygments_lexer": "ipython3",
      "version": "3.9.12"
    },
    "colab": {
      "provenance": []
    }
  },
  "nbformat": 4,
  "nbformat_minor": 0
}